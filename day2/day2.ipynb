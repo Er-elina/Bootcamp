{
 "cells": [
  {
   "cell_type": "code",
   "execution_count": 6,
   "id": "6596a5a5",
   "metadata": {},
   "outputs": [
    {
     "name": "stdout",
     "output_type": "stream",
     "text": [
      "name\n",
      "nam\n"
     ]
    }
   ],
   "source": [
    "my=\"name\"\n",
    "My='nam'\n",
    "print(my)\n",
    "print(My)"
   ]
  },
  {
   "cell_type": "code",
   "execution_count": 5,
   "id": "ef010c7c",
   "metadata": {},
   "outputs": [
    {
     "data": {
      "text/plain": [
       "str"
      ]
     },
     "execution_count": 5,
     "metadata": {},
     "output_type": "execute_result"
    }
   ],
   "source": [
    "type(my)"
   ]
  },
  {
   "cell_type": "code",
   "execution_count": 7,
   "id": "fb3d2814",
   "metadata": {},
   "outputs": [
    {
     "data": {
      "text/plain": [
       "str"
      ]
     },
     "execution_count": 7,
     "metadata": {},
     "output_type": "execute_result"
    }
   ],
   "source": [
    "var=\"hj\"\n",
    "type(var)"
   ]
  },
  {
   "cell_type": "code",
   "execution_count": 12,
   "id": "380c7b46",
   "metadata": {},
   "outputs": [
    {
     "name": "stdout",
     "output_type": "stream",
     "text": [
      " jitu45\n"
     ]
    }
   ],
   "source": [
    "marks=45\n",
    "name=\" jitu\"\n",
    "print(name +str(marks))"
   ]
  },
  {
   "cell_type": "code",
   "execution_count": null,
   "id": "62ef9c66",
   "metadata": {},
   "outputs": [],
   "source": [
    "c=[25,26,30]\n"
   ]
  },
  {
   "cell_type": "code",
   "execution_count": 3,
   "id": "1ea2c05a",
   "metadata": {},
   "outputs": [
    {
     "ename": "SyntaxError",
     "evalue": "leading zeros in decimal integer literals are not permitted; use an 0o prefix for octal integers (847015410.py, line 1)",
     "output_type": "error",
     "traceback": [
      "\u001b[1;36m  Cell \u001b[1;32mIn[3], line 1\u001b[1;36m\u001b[0m\n\u001b[1;33m    0_9=12\u001b[0m\n\u001b[1;37m    ^\u001b[0m\n\u001b[1;31mSyntaxError\u001b[0m\u001b[1;31m:\u001b[0m leading zeros in decimal integer literals are not permitted; use an 0o prefix for octal integers\n"
     ]
    }
   ],
   "source": [
    "0_9=12"
   ]
  },
  {
   "cell_type": "code",
   "execution_count": 11,
   "id": "df7f0a9a",
   "metadata": {},
   "outputs": [],
   "source": [
    "# Fibonacci numbers module\n",
    "\n",
    "def fib(n):    # write Fibonacci series up to n\n",
    "    a, b = 0, 1\n",
    "    while a < n:\n",
    "        print(a, end=' ')\n",
    "        a, b = b, a+b\n",
    "    print()\n",
    "\n",
    "def fib2(n):   # return Fibonacci series up to n\n",
    "    result = []\n",
    "    a, b = 0, 1\n",
    "    while a < n:\n",
    "        result.append(a)\n",
    "        a, b = b, a+b\n",
    "    return result\n",
    "\n"
   ]
  },
  {
   "cell_type": "code",
   "execution_count": 50,
   "id": "3c1ccb6a",
   "metadata": {},
   "outputs": [
    {
     "ename": "TypeError",
     "evalue": "'module' object is not callable",
     "output_type": "error",
     "traceback": [
      "\u001b[1;31m---------------------------------------------------------------------------\u001b[0m",
      "\u001b[1;31mTypeError\u001b[0m                                 Traceback (most recent call last)",
      "Cell \u001b[1;32mIn[50], line 2\u001b[0m\n\u001b[0;32m      1\u001b[0m \u001b[38;5;28;01mimport\u001b[39;00m \u001b[38;5;21;01mfib\u001b[39;00m\n\u001b[1;32m----> 2\u001b[0m fib(\u001b[38;5;241m10\u001b[39m)\n",
      "\u001b[1;31mTypeError\u001b[0m: 'module' object is not callable"
     ]
    }
   ],
   "source": [
    "import fib\n",
    "fib(10)"
   ]
  },
  {
   "cell_type": "code",
   "execution_count": 31,
   "id": "77b357c0",
   "metadata": {},
   "outputs": [
    {
     "name": "stdout",
     "output_type": "stream",
     "text": [
      "How many terms? 10\n",
      "Fibonacci sequence:\n",
      "0\n",
      "1\n",
      "1\n",
      "2\n",
      "3\n",
      "5\n",
      "8\n",
      "13\n",
      "21\n",
      "34\n"
     ]
    }
   ],
   "source": [
    "# Program to display the Fibonacci sequence up to n-th term\n",
    "\n",
    "nterms = int(input(\"How many terms? \"))\n",
    "\n",
    "# first two terms\n",
    "n1, n2 = 0, 1\n",
    "count = 0\n",
    "\n",
    "# check if the number of terms is valid\n",
    "if nterms <= 0:\n",
    "   print(\"Please enter a positive integer\")\n",
    "# if there is only one term, return n1\n",
    "elif nterms == 1:\n",
    "   print(\"Fibonacci sequence upto\",nterms,\":\")\n",
    "   print(n1)\n",
    "# generate fibonacci sequence\n",
    "else:\n",
    "   print(\"Fibonacci sequence:\")\n",
    "   while count < nterms:\n",
    "       print(n1)\n",
    "       nth = n1 + n2\n",
    "       # update values\n",
    "       n1 = n2\n",
    "       n2 = nth\n",
    "       count += 1"
   ]
  },
  {
   "cell_type": "code",
   "execution_count": 34,
   "id": "1c910ba6",
   "metadata": {},
   "outputs": [
    {
     "name": "stdout",
     "output_type": "stream",
     "text": [
      "0\n",
      "1\n",
      "1\n",
      "2\n",
      "3\n",
      "5\n",
      "8\n",
      "13\n",
      "21\n",
      "34\n"
     ]
    }
   ],
   "source": [
    "fib=10\n",
    "\n",
    "n1,n2=0,1\n",
    "count=0\n",
    "if (fib==1):\n",
    "    print(fib)\n",
    "    print(n1)\n",
    "\n",
    "else:\n",
    "    while count<fib:\n",
    "        print(n1)\n",
    "        n=n1+n2\n",
    "        n1=n2\n",
    "        n2=n\n",
    "        count +=1"
   ]
  },
  {
   "cell_type": "code",
   "execution_count": 8,
   "id": "1ec6f35e",
   "metadata": {},
   "outputs": [
    {
     "data": {
      "text/plain": [
       "True"
      ]
     },
     "execution_count": 8,
     "metadata": {},
     "output_type": "execute_result"
    }
   ],
   "source": [
    "def even(n):\n",
    "    fo\n",
    "    if(n/2== 0):\n",
    "        return False\n",
    "    else:\n",
    "        return True\n",
    "even(5)"
   ]
  },
  {
   "cell_type": "code",
   "execution_count": 27,
   "id": "c5d239ad",
   "metadata": {},
   "outputs": [
    {
     "name": "stdout",
     "output_type": "stream",
     "text": [
      "prime\n"
     ]
    }
   ],
   "source": [
    "import prime\n",
    "result = prime.checkprime(3)\n",
    "if( result==True):\n",
    "    print(\"prime\")\n",
    "else:\n",
    "    print(\"not prime\")\n"
   ]
  },
  {
   "cell_type": "code",
   "execution_count": 9,
   "id": "786349d6",
   "metadata": {},
   "outputs": [],
   "source": [
    "def even(n):\n",
    "    for num1 in range(100):\n",
    "        if(n%2==0):\n",
    "            return True\n",
    "        else:\n",
    "            return False\n",
    "even(21)\n",
    "def evenrange(start,end):\n",
    "    result=[]\n",
    "    for num in range(start,end+1):\n",
    "        if(n%2==0):\n",
    "            result.append(num)\n",
    "            return result\n",
    "\n",
    "         "
   ]
  },
  {
   "cell_type": "code",
   "execution_count": 2,
   "id": "023f1ad3",
   "metadata": {},
   "outputs": [
    {
     "data": {
      "text/plain": [
       "False"
      ]
     },
     "execution_count": 2,
     "metadata": {},
     "output_type": "execute_result"
    }
   ],
   "source": [
    "import EVEN\n",
    "EVEN.even(11)"
   ]
  },
  {
   "cell_type": "code",
   "execution_count": 3,
   "id": "9e96d202",
   "metadata": {},
   "outputs": [
    {
     "data": {
      "text/plain": [
       "120"
      ]
     },
     "execution_count": 3,
     "metadata": {},
     "output_type": "execute_result"
    }
   ],
   "source": [
    "def factorial(num1):\n",
    "    result=1\n",
    "    for numbers in range(1,num1+1):\n",
    "        result=result*numbers\n",
    "    return result\n",
    "factorial(5)"
   ]
  },
  {
   "cell_type": "code",
   "execution_count": 4,
   "id": "31b63ee4",
   "metadata": {},
   "outputs": [
    {
     "ename": "TypeError",
     "evalue": "oddrange() missing 1 required positional argument: 'end'",
     "output_type": "error",
     "traceback": [
      "\u001b[1;31m---------------------------------------------------------------------------\u001b[0m",
      "\u001b[1;31mTypeError\u001b[0m                                 Traceback (most recent call last)",
      "Cell \u001b[1;32mIn[4], line 3\u001b[0m\n\u001b[0;32m      1\u001b[0m \u001b[38;5;28;01mimport\u001b[39;00m \u001b[38;5;21;01modd\u001b[39;00m\n\u001b[0;32m      2\u001b[0m odd\u001b[38;5;241m.\u001b[39modd(\u001b[38;5;241m4\u001b[39m)\n\u001b[1;32m----> 3\u001b[0m odd\u001b[38;5;241m.\u001b[39moddrange(\u001b[38;5;241m9\u001b[39m)\n",
      "\u001b[1;31mTypeError\u001b[0m: oddrange() missing 1 required positional argument: 'end'"
     ]
    }
   ],
   "source": [
    "import odd\n",
    "odd.odd(4)\n",
    "odd.oddrange(9)"
   ]
  },
  {
   "cell_type": "code",
   "execution_count": 1,
   "id": "1980535b",
   "metadata": {},
   "outputs": [
    {
     "data": {
      "text/plain": [
       "'it is not even'"
      ]
     },
     "execution_count": 1,
     "metadata": {},
     "output_type": "execute_result"
    }
   ],
   "source": [
    "import EVEN\n",
    "EVEN.even(5)"
   ]
  },
  {
   "cell_type": "code",
   "execution_count": 5,
   "id": "d2b116d7",
   "metadata": {},
   "outputs": [
    {
     "ename": "TypeError",
     "evalue": "primerange() missing 1 required positional argument: 'end'",
     "output_type": "error",
     "traceback": [
      "\u001b[1;31m---------------------------------------------------------------------------\u001b[0m",
      "\u001b[1;31mTypeError\u001b[0m                                 Traceback (most recent call last)",
      "Cell \u001b[1;32mIn[5], line 2\u001b[0m\n\u001b[0;32m      1\u001b[0m \u001b[38;5;28;01mimport\u001b[39;00m \u001b[38;5;21;01mprime\u001b[39;00m\n\u001b[1;32m----> 2\u001b[0m prime\u001b[38;5;241m.\u001b[39mprimerange(\u001b[38;5;241m10\u001b[39m\u001b[38;5;241m-\u001b[39m\u001b[38;5;241m20\u001b[39m)\n",
      "\u001b[1;31mTypeError\u001b[0m: primerange() missing 1 required positional argument: 'end'"
     ]
    }
   ],
   "source": [
    "import prime\n",
    "prime.primerange(10-20)"
   ]
  },
  {
   "cell_type": "code",
   "execution_count": 3,
   "id": "c99bf3bf",
   "metadata": {},
   "outputs": [
    {
     "name": "stdout",
     "output_type": "stream",
     "text": [
      "Original list  [1, 2, 3, 4, 3, 3, 3]\n"
     ]
    }
   ],
   "source": [
    "my_list = [1,2,3,4,3,3,3]\n",
    "my_tuple=(1,2,3,4,3,3,3)\n",
    "print(\"Original list \", List)"
   ]
  },
  {
   "cell_type": "code",
   "execution_count": null,
   "id": "8b72e9d0",
   "metadata": {},
   "outputs": [],
   "source": [
    "my_list = [1, 2, 3]\n",
    "my_tuple = (4, 5, 6)\n",
    " \n",
    "print(my_list[0]) # Output: 1\n",
    "print(my_tuple[0])"
   ]
  },
  {
   "cell_type": "code",
   "execution_count": 11,
   "id": "aa926c04",
   "metadata": {},
   "outputs": [
    {
     "name": "stdout",
     "output_type": "stream",
     "text": [
      "result 3\n"
     ]
    }
   ],
   "source": [
    "Tuple=(1,2,3,4,5)\n",
    "print(\"result\",Tuple[2]) "
   ]
  },
  {
   "cell_type": "code",
   "execution_count": 12,
   "id": "37c217b8",
   "metadata": {},
   "outputs": [
    {
     "name": "stdout",
     "output_type": "stream",
     "text": [
      "3\n"
     ]
    }
   ],
   "source": [
    "def sum(a,b): \n",
    "  print(a+b) \n",
    "    \n",
    "sum(1,2)\n",
    "    "
   ]
  },
  {
   "cell_type": "code",
   "execution_count": null,
   "id": "3bc1eee3",
   "metadata": {},
   "outputs": [],
   "source": []
  }
 ],
 "metadata": {
  "kernelspec": {
   "display_name": "Python 3 (ipykernel)",
   "language": "python",
   "name": "python3"
  },
  "language_info": {
   "codemirror_mode": {
    "name": "ipython",
    "version": 3
   },
   "file_extension": ".py",
   "mimetype": "text/x-python",
   "name": "python",
   "nbconvert_exporter": "python",
   "pygments_lexer": "ipython3",
   "version": "3.11.5"
  }
 },
 "nbformat": 4,
 "nbformat_minor": 5
}
