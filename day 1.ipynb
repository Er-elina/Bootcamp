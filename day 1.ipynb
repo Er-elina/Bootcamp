{
 "cells": [
  {
   "cell_type": "code",
   "execution_count": 1,
   "id": "f728399c",
   "metadata": {},
   "outputs": [
    {
     "name": "stdout",
     "output_type": "stream",
     "text": [
      "Welcome to Bootcamp\n"
     ]
    }
   ],
   "source": [
    "print(\"Welcome to Bootcamp\")"
   ]
  },
  {
   "cell_type": "code",
   "execution_count": null,
   "id": "a3f4b579",
   "metadata": {},
   "outputs": [],
   "source": [
    "#how to use variables in python\n",
    "\"\"\"\n",
    "There are four types of using variable\n",
    "1. one variable = one values\n",
    "2. multiple variable= one values\n",
    "3. multiple variable = multiple values\n",
    "4. variable= unpacking values\n",
    "\"\"\""
   ]
  },
  {
   "cell_type": "code",
   "execution_count": 4,
   "id": "e65e786b",
   "metadata": {},
   "outputs": [
    {
     "data": {
      "text/plain": [
       "'dell'"
      ]
     },
     "execution_count": 4,
     "metadata": {},
     "output_type": "execute_result"
    }
   ],
   "source": [
    "#one variable = one values\n",
    "laptop=\"dell\"\n",
    "laptop"
   ]
  },
  {
   "cell_type": "code",
   "execution_count": 5,
   "id": "f11f897e",
   "metadata": {},
   "outputs": [
    {
     "name": "stdout",
     "output_type": "stream",
     "text": [
      "Red\n"
     ]
    }
   ],
   "source": [
    "# Multiple variable = one values\n",
    "color1=color2=color3='Red'\n",
    "print(color2)"
   ]
  },
  {
   "cell_type": "code",
   "execution_count": 15,
   "id": "b52dfb4c",
   "metadata": {},
   "outputs": [
    {
     "name": "stdout",
     "output_type": "stream",
     "text": [
      " Red Blue Green\n"
     ]
    }
   ],
   "source": [
    "#multiple variable = multiple values\n",
    "color1,color2,color3=\" Red\",\" Blue\",\" Green\"\n",
    "print(color1+color2+color3)"
   ]
  },
  {
   "cell_type": "code",
   "execution_count": 23,
   "id": "2edc47b0",
   "metadata": {},
   "outputs": [
    {
     "name": "stdout",
     "output_type": "stream",
     "text": [
      "90 85\n"
     ]
    }
   ],
   "source": [
    "#variable = unpack variable\n",
    "Ram=[90,85,80]\n",
    "math,science,english=Ram\n",
    "\n",
    "print( math, science)"
   ]
  },
  {
   "cell_type": "code",
   "execution_count": 34,
   "id": "1146a785",
   "metadata": {},
   "outputs": [
    {
     "name": "stdout",
     "output_type": "stream",
     "text": [
      " good\n"
     ]
    }
   ],
   "source": [
    "#Multi words variable\n",
    "# camel case\n",
    "# _first word first letter is small and second word first letter is capital\n",
    "_ramShyam=\" good\"\n",
    "print(_ramShyam)"
   ]
  },
  {
   "cell_type": "code",
   "execution_count": 36,
   "id": "def8ea11",
   "metadata": {},
   "outputs": [
    {
     "data": {
      "text/plain": [
       "30"
      ]
     },
     "execution_count": 36,
     "metadata": {},
     "output_type": "execute_result"
    }
   ],
   "source": [
    "# pascal case\n",
    "# _Each words first letter is capital\n",
    "_RamShyam=30\n",
    "_RamShyam"
   ]
  },
  {
   "cell_type": "code",
   "execution_count": 37,
   "id": "f32d18ec",
   "metadata": {},
   "outputs": [
    {
     "data": {
      "text/plain": [
       "(80, 'Good students')"
      ]
     },
     "execution_count": 37,
     "metadata": {},
     "output_type": "execute_result"
    }
   ],
   "source": [
    "#Snake case:\n",
    "#Each words are seperated by _( underscore):\n",
    "Ram_Shyam_Gopal=80\n",
    "ram_shyam_gopal= \"Good students\"\n",
    "Ram_Shyam_Gopal,ram_shyam_gopal # no use print show the output\n",
    "# note mostly used snake case variable"
   ]
  },
  {
   "cell_type": "code",
   "execution_count": null,
   "id": "61672a30",
   "metadata": {},
   "outputs": [],
   "source": [
    "# how to create fuction\n",
    "# there are use two types variable : Global and local variable\n"
   ]
  },
  {
   "cell_type": "code",
   "execution_count": 51,
   "id": "b0ef71e2",
   "metadata": {},
   "outputs": [
    {
     "name": "stdout",
     "output_type": "stream",
     "text": [
      "total students 30\n"
     ]
    }
   ],
   "source": [
    "# sample function\n",
    "students=30\n",
    "def myfunc():\n",
    "#print( \"total students\",+x) # this is error ,beacuse no space create function below statement\n",
    "   print(\"total students\" ,students)#write this line \n",
    "    \n",
    "myfunc()"
   ]
  },
  {
   "cell_type": "code",
   "execution_count": 53,
   "id": "a31e46a3",
   "metadata": {},
   "outputs": [
    {
     "name": "stdout",
     "output_type": "stream",
     "text": [
      "15\n",
      "Total students 30\n"
     ]
    }
   ],
   "source": [
    "# using local variable\n",
    "students=30\n",
    "def myfunction():\n",
    "    students=15\n",
    "    print(students)# this line shows the local variable\n",
    "myfunction()\n",
    "print(\"Total students\", students)\n",
    "    "
   ]
  },
  {
   "cell_type": "code",
   "execution_count": 3,
   "id": "55fb90c0",
   "metadata": {},
   "outputs": [
    {
     "name": "stdout",
     "output_type": "stream",
     "text": [
      "15\n",
      "total students 15\n"
     ]
    }
   ],
   "source": [
    "# how to use global keywords\n",
    "\n",
    "def myfunction():\n",
    "    global students\n",
    "    students=15\n",
    "    print(students)\n",
    "myfunction()\n",
    "print(\"total students\",students)"
   ]
  },
  {
   "cell_type": "code",
   "execution_count": 59,
   "id": "e932d243",
   "metadata": {},
   "outputs": [
    {
     "name": "stdout",
     "output_type": "stream",
     "text": [
      "15\n",
      "total students 15\n"
     ]
    }
   ],
   "source": [
    "students=30\n",
    "def myfunc():\n",
    "    global students\n",
    "    students=15\n",
    "    print(students)\n",
    "myfunc()\n",
    "print(\"total students\",students)"
   ]
  },
  {
   "cell_type": "code",
   "execution_count": null,
   "id": "c82fabd3",
   "metadata": {},
   "outputs": [],
   "source": []
  }
 ],
 "metadata": {
  "kernelspec": {
   "display_name": "Python 3 (ipykernel)",
   "language": "python",
   "name": "python3"
  },
  "language_info": {
   "codemirror_mode": {
    "name": "ipython",
    "version": 3
   },
   "file_extension": ".py",
   "mimetype": "text/x-python",
   "name": "python",
   "nbconvert_exporter": "python",
   "pygments_lexer": "ipython3",
   "version": "3.11.5"
  }
 },
 "nbformat": 4,
 "nbformat_minor": 5
}
