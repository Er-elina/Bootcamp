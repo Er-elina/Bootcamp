{
 "cells": [
  {
   "cell_type": "markdown",
   "id": "9f633cb9",
   "metadata": {},
   "source": [
    "<img src = CodroidHubLogo.jpeg width = 200 height =200 align = \"left\">\n",
    "<img src = PythonLogo.png width = 200 height =200 align = \"right\"> \n",
    "<h1 style=\"font-family:verdana;\"> <center>📚 Module - 1: Python Variables 📚</center> </h1>\n",
    "<p><h3> <center style=\"color:#0e9ee1; font-family:calibri;\">Unlock Your Potential with CodroidHub Private Limited: Educational Solutions Tailored to you</center>"
   ]
  },
  {
   "cell_type": "markdown",
   "id": "9acbeb3f",
   "metadata": {},
   "source": [
    "## Variable"
   ]
  },
  {
   "cell_type": "markdown",
   "id": "3e350b4f",
   "metadata": {},
   "source": [
    "A variable is a fundamental concept in any programming language. It is a reserved memory location that stores and manipulates data."
   ]
  },
  {
   "cell_type": "markdown",
   "id": "8a719f0b",
   "metadata": {},
   "source": [
    "* Python is completely object oriented, and not \"statically typed\". \n",
    "* You do not need to declare variables before using them, or declare their type. \n",
    "* Every variable in Python is an object."
   ]
  },
  {
   "cell_type": "code",
   "execution_count": 4,
   "id": "8a01f9cf",
   "metadata": {},
   "outputs": [],
   "source": [
    "# Declare a varibale with following names: 19Codroidhub, Codroid-Hub, Codroid Hub \n",
    "#Answer:\n",
    "Codroidhub=\"name\"# 19Codroidhub -this is invalid variable because starting numeric value doesn't support\n",
    "codroid_Hub=\"name\" #Codroid-Hub - this is also invalid variable because cannot assign expression\n",
    "codroid_hub=\"name\"#Codroid Hub - this is invalid variable because python variable doesn't support space "
   ]
  },
  {
   "cell_type": "code",
   "execution_count": 14,
   "id": "dc7c5a2e",
   "metadata": {},
   "outputs": [],
   "source": [
    "# Declaring variables of integer type with name myvariable and Myvariable. Justify answer with error\n",
    "#Answer\n",
    "myvariable=10\n",
    "Myvariable=5"
   ]
  },
  {
   "cell_type": "markdown",
   "id": "019e6f6b",
   "metadata": {},
   "source": [
    "## Variable Names"
   ]
  },
  {
   "cell_type": "markdown",
   "id": "09c7986e",
   "metadata": {},
   "source": [
    "A variable can have descriptive name (age, carname, total_volume). \n",
    "- Rules for Python variables:\n",
    "    - A variable name must start with a letter or the underscore character\n",
    "    - A variable name cannot start with a number\n",
    "    - A variable name can only contain alpha-numeric characters and underscores (A-z, 0-9, and _ )\n",
    "    - Variable names are case-sensitive (age, Age and AGE are three different variables)\n",
    "    - A variable name cannot be any of the Python keywords."
   ]
  },
  {
   "cell_type": "markdown",
   "id": "2b19978b",
   "metadata": {},
   "source": [
    "## Variable Nomenclature"
   ]
  },
  {
   "cell_type": "markdown",
   "id": "7a5a5213",
   "metadata": {},
   "source": [
    "* Camel Case  : Example - codroidHub\n",
    "* Pascal Case : Example - CodroidHub\n",
    "* Snake Case  : Example - codroid_hub "
   ]
  },
  {
   "cell_type": "code",
   "execution_count": 15,
   "id": "1a675e00",
   "metadata": {},
   "outputs": [],
   "source": [
    "# Which nomenclature is followed in writing the variable names?\n",
    "_camelCase=\"codroidhub\"\n",
    "_PascalCase=\"codroidhub\"\n",
    "snake_case=\" codroidhub\""
   ]
  },
  {
   "cell_type": "code",
   "execution_count": null,
   "id": "80121997",
   "metadata": {},
   "outputs": [],
   "source": [
    "# Write variable names using the 3 different nomenclatures.\n",
    "_pythonSubject=\"code\"\n",
    "_PythonSubject=\"code\"\n",
    "python_subject=\"code\"\n"
   ]
  },
  {
   "cell_type": "code",
   "execution_count": null,
   "id": "fbba0330",
   "metadata": {},
   "outputs": [],
   "source": [
    "# Define variable of integer type with name myvariable1 and value 30 | Myvariable with 40\n",
    "myvariable1=30\n",
    "Myvariable=40"
   ]
  },
  {
   "cell_type": "code",
   "execution_count": null,
   "id": "dffebefa",
   "metadata": {},
   "outputs": [],
   "source": [
    "# Is it possible to assign different values to both the variables? Why? Answer in multiline comments\n",
    "\"\"\"\n",
    "Yes, it is possible to assign different values to both the variables. Because python is dynamic type. It is supported.for example:\n",
    "Math=Physics= 95\n",
    "print( Math,Physics)\n",
    "\"\"\""
   ]
  },
  {
   "cell_type": "code",
   "execution_count": null,
   "id": "7fb3dd06",
   "metadata": {},
   "outputs": [],
   "source": [
    "# Reassign \"CodroidHub\" as the new value to the variable - myvariable\n",
    "myvariable=\"CodroidHub\""
   ]
  },
  {
   "cell_type": "code",
   "execution_count": null,
   "id": "14efc447",
   "metadata": {},
   "outputs": [],
   "source": [
    "# What will happen if we assign 'CodroidHub' to the variable - myvariable?\n",
    "nothing change,it is single quotes string 'codroidHub'"
   ]
  },
  {
   "cell_type": "code",
   "execution_count": 3,
   "id": "3b14ea6d",
   "metadata": {},
   "outputs": [
    {
     "name": "stdout",
     "output_type": "stream",
     "text": [
      "CodroiHub CodroidHub\n"
     ]
    }
   ],
   "source": [
    "# Is there any difference between \"CodroiHub\" and 'CodroidHub'?\n",
    "#yes ,there are different values but they are same string values \"CodroiHub\" and 'CodroidHub'\n",
    "myvariable=\"CodroiHub\"\n",
    "Myvariable='CodroidHub'\n",
    "print(myvariable,Myvariable)"
   ]
  },
  {
   "cell_type": "code",
   "execution_count": null,
   "id": "60ecc89a",
   "metadata": {},
   "outputs": [],
   "source": [
    "# Is there any difference between \"CodroiHub\" and 'CodroidHub'?\n"
   ]
  },
  {
   "cell_type": "code",
   "execution_count": 2,
   "id": "cde1fe39",
   "metadata": {},
   "outputs": [
    {
     "data": {
      "text/plain": [
       "str"
      ]
     },
     "execution_count": 2,
     "metadata": {},
     "output_type": "execute_result"
    }
   ],
   "source": [
    "# Specify the type of myvariable to be string\n",
    "myvariable=\"coderoidHub\"\n",
    "type(myvariable)"
   ]
  },
  {
   "cell_type": "markdown",
   "id": "9000aec5",
   "metadata": {},
   "source": [
    "## Assigning value/values to a variable"
   ]
  },
  {
   "cell_type": "markdown",
   "id": "e3e397d4",
   "metadata": {},
   "source": [
    "* Single Value - Single Variable\n",
    "* Single Value - Multiple Variable\n",
    "* Multiple Value - Multiple Variable\n",
    "* Unpacking values - Variables"
   ]
  },
  {
   "cell_type": "code",
   "execution_count": 5,
   "id": "d4f8a733",
   "metadata": {},
   "outputs": [
    {
     "name": "stdout",
     "output_type": "stream",
     "text": [
      "<class 'float'>\n"
     ]
    }
   ],
   "source": [
    "# Assign 25.45 to variable \"marks\" which is of float type\n",
    "marks=25.45\n",
    "print(type(marks))"
   ]
  },
  {
   "cell_type": "code",
   "execution_count": 10,
   "id": "abbab1e8",
   "metadata": {},
   "outputs": [
    {
     "name": "stdout",
     "output_type": "stream",
     "text": [
      "Gyan Vidhya Mandir\n"
     ]
    }
   ],
   "source": [
    "# Assign school name for following students [Amit, Sonal, Lucky, Jeetu] to \"Gyan Vidhya Mandir\"\n",
    "students=[\"Amit\",\"Sonal\",\"Lucky\",\"Jeetu\"]\n",
    "students=\"Gyan Vidhya Mandir\"\n",
    "print(students)"
   ]
  },
  {
   "cell_type": "code",
   "execution_count": 8,
   "id": "1f656a7a",
   "metadata": {},
   "outputs": [
    {
     "name": "stdout",
     "output_type": "stream",
     "text": [
      "60 70\n"
     ]
    }
   ],
   "source": [
    "# Assign marks of subjects English, Hindi, Maths, Physics, Chemistry to 60,90,80,70,90 \n",
    "subjects=[60,90,80,70,90]\n",
    "English,Hindi,Maths,Physics,Chemistry = subjects\n",
    "print(English,Physics)"
   ]
  },
  {
   "cell_type": "code",
   "execution_count": 11,
   "id": "61bf6d0c",
   "metadata": {},
   "outputs": [
    {
     "name": "stdout",
     "output_type": "stream",
     "text": [
      "Lucky Jeetu Sonal\n"
     ]
    }
   ],
   "source": [
    "# Assign Toppers List [Lucky, Jeetu, Sonal] to Rank1, Rank2, Rank3\n",
    "Topper=[\"Lucky\",\"Jeetu\",\"Sonal\"]\n",
    "Rank1,Rank2,Rank3=Topper\n",
    "print(Rank1,Rank2,Rank3)"
   ]
  },
  {
   "cell_type": "markdown",
   "id": "0af0c9d7",
   "metadata": {},
   "source": [
    "## Printing value of Variables"
   ]
  },
  {
   "cell_type": "markdown",
   "id": "9f6f82dd",
   "metadata": {},
   "source": [
    "* print() - often used to output variables\n",
    "* print() with comma\n",
    "* print() with + operator\n",
    "* print() with different data types"
   ]
  },
  {
   "cell_type": "code",
   "execution_count": 12,
   "id": "d91caab8",
   "metadata": {},
   "outputs": [
    {
     "name": "stdout",
     "output_type": "stream",
     "text": [
      "85\n"
     ]
    }
   ],
   "source": [
    "# Print the value of variable marks\n",
    "marks=85\n",
    "print(marks)"
   ]
  },
  {
   "cell_type": "code",
   "execution_count": 13,
   "id": "d63cc830",
   "metadata": {},
   "outputs": [
    {
     "name": "stdout",
     "output_type": "stream",
     "text": [
      "Lucky Jeetu Sonal\n"
     ]
    }
   ],
   "source": [
    "# Print the Rank Holders i.e Student Name with Rank1, Rank2 and Rank3 using a single print()\n",
    "Student_name=[\"Lucky\",\"Jeetu\",\"Sonal\"]\n",
    "Rank1,Rank2,Rank3=Student_name\n",
    "print(Rank1,Rank2,Rank3)"
   ]
  },
  {
   "cell_type": "code",
   "execution_count": 14,
   "id": "a23499bb",
   "metadata": {},
   "outputs": [
    {
     "name": "stdout",
     "output_type": "stream",
     "text": [
      "Hari Jeetu Sonal\n"
     ]
    }
   ],
   "source": [
    "# Print the following output: The first rank goes to \"replace with student name\"\n",
    "Student_name=[\"Lucky\",\"Jeetu\",\"Sonal\"]\n",
    "Rank1,Rank2,Rank3=Student_name\n",
    "Rank1=\"Hari\"\n",
    "print(Rank1,Rank2,Rank3)"
   ]
  },
  {
   "cell_type": "code",
   "execution_count": 23,
   "id": "1aee38e2",
   "metadata": {},
   "outputs": [
    {
     "name": "stdout",
     "output_type": "stream",
     "text": [
      " Lucky  80\n"
     ]
    }
   ],
   "source": [
    "# Print the Rank and Total Marks of Rank1 (Case 1 - Using + operator)Justify your answer\n",
    "\"\"\"\n",
    "\"\"\"\n",
    "total_marks=[80,90,95]\n",
    "Lucky,Jeetu,Sonal=total_marks\n",
    "Student_name=[\" Lucky  \",\"Jeetu\",\"Sonal\"]\n",
    "Rank1,Rank2,Rank3=Student_name\n",
    "print(Rank1 + str(Lucky))"
   ]
  },
  {
   "cell_type": "code",
   "execution_count": 25,
   "id": "7189535b",
   "metadata": {},
   "outputs": [
    {
     "ename": "ValueError",
     "evalue": "invalid literal for int() with base 10: ' Lucky  '",
     "output_type": "error",
     "traceback": [
      "\u001b[1;31m---------------------------------------------------------------------------\u001b[0m",
      "\u001b[1;31mValueError\u001b[0m                                Traceback (most recent call last)",
      "Cell \u001b[1;32mIn[25], line 6\u001b[0m\n\u001b[0;32m      4\u001b[0m Student_name\u001b[38;5;241m=\u001b[39m[\u001b[38;5;124m\"\u001b[39m\u001b[38;5;124m Lucky  \u001b[39m\u001b[38;5;124m\"\u001b[39m,\u001b[38;5;124m\"\u001b[39m\u001b[38;5;124mJeetu\u001b[39m\u001b[38;5;124m\"\u001b[39m,\u001b[38;5;124m\"\u001b[39m\u001b[38;5;124mSonal\u001b[39m\u001b[38;5;124m\"\u001b[39m]\n\u001b[0;32m      5\u001b[0m Rank1,Rank2,Rank3\u001b[38;5;241m=\u001b[39mStudent_name\n\u001b[1;32m----> 6\u001b[0m \u001b[38;5;28mprint\u001b[39m(\u001b[38;5;28mint\u001b[39m(Rank1) \u001b[38;5;241m-\u001b[39m Lucky)\n",
      "\u001b[1;31mValueError\u001b[0m: invalid literal for int() with base 10: ' Lucky  '"
     ]
    }
   ],
   "source": [
    "# Print the Rank and Total Marks of Rank1 (Case 1 - Using , operator)Justify your answer\n",
    "total_marks=[80,90,95]\n",
    "Lucky,Jeetu,Sonal=total_marks\n",
    "Student_name=[\" Lucky  \",\"Jeetu\",\"Sonal\"]\n",
    "Rank1,Rank2,Rank3=Student_name\n",
    "print((Rank1) - Lucky)"
   ]
  },
  {
   "cell_type": "markdown",
   "id": "d2e92148",
   "metadata": {},
   "source": [
    "## Global Variables"
   ]
  },
  {
   "cell_type": "markdown",
   "id": "a3cdd230",
   "metadata": {},
   "source": [
    "* Variables created outside function\n",
    "* Accessible to all parts of the program"
   ]
  },
  {
   "cell_type": "markdown",
   "id": "e51987b2",
   "metadata": {},
   "source": [
    "* Global Variable within function\n",
    "* Global and Local Variable with same name\n",
    "* Global Keyword\n",
    "* Accessing Global Variable inside function"
   ]
  },
  {
   "cell_type": "code",
   "execution_count": 4,
   "id": "a49b4b67",
   "metadata": {},
   "outputs": [
    {
     "name": "stdout",
     "output_type": "stream",
     "text": [
      "WelcometoCodroidHub\n"
     ]
    }
   ],
   "source": [
    "# Run this code to understand Global Variables\n",
    "company = \"CodroidHub\"\n",
    "\n",
    "def myfirstcourse():\n",
    "  print(\"Welcome to\" + company)\n",
    "\n",
    "myfirstcourse()"
   ]
  },
  {
   "cell_type": "code",
   "execution_count": 5,
   "id": "21ba1aad",
   "metadata": {},
   "outputs": [
    {
     "name": "stdout",
     "output_type": "stream",
     "text": [
      "Python is CodroidHub Pvt. Ltd.\n",
      "Python is CodroidHub\n"
     ]
    }
   ],
   "source": [
    "# Mention in comment what is done in this code/ How this code differs from above one?\n",
    "# Discuss about the both print() statements.\n",
    "#above code only assign global variable and below code using both local and global variable \n",
    "company = \"CodroidHub\"\n",
    "\n",
    "def myfirstcourse():\n",
    "  company = \"CodroidHub Pvt. Ltd.\"\n",
    "  print(\"Python is \" + company)#this print is local variable shows output\n",
    "\n",
    "myfirstcourse()\n",
    "\n",
    "print(\"Python is \" + company)#this print is global variable shows output"
   ]
  },
  {
   "cell_type": "code",
   "execution_count": 28,
   "id": "1cfb373a",
   "metadata": {},
   "outputs": [
    {
     "name": "stdout",
     "output_type": "stream",
     "text": [
      "Python is CodroidHub\n"
     ]
    }
   ],
   "source": [
    "# Share your thoughts and understanding \n",
    "#global keyword is make to global variable .below code local variable is global variable because use the global keyword\n",
    "def myfirstcourse():\n",
    "  global company\n",
    "  company = \"CodroidHub\"\n",
    "\n",
    "myfirstcourse()\n",
    "\n",
    "print(\"Python is \" + company)"
   ]
  },
  {
   "cell_type": "code",
   "execution_count": 26,
   "id": "024020b4",
   "metadata": {},
   "outputs": [
    {
     "name": "stdout",
     "output_type": "stream",
     "text": [
      "Python is CodroidHub Pvt. Ltd.\n"
     ]
    },
    {
     "data": {
      "text/plain": [
       "'\\nAdd you understanding here\\n\\n'"
      ]
     },
     "execution_count": 26,
     "metadata": {},
     "output_type": "execute_result"
    }
   ],
   "source": [
    "# Share your thoughts and understanding \n",
    "#global keyword is make to global variable .below code local variable is global variable because use the global keyword\n",
    "company = \"CodroidHub\"\n",
    "\n",
    "def myfunc():\n",
    "  global company\n",
    "  company = \"CodroidHub Pvt. Ltd.\"\n",
    "\n",
    "myfunc()\n",
    "\n",
    "print(\"Python is \" + company)\n",
    "\n",
    "\n",
    "\"\"\"\n",
    "Add you understanding here\n",
    "yes, I understanding global keyword. we want to change a global variable inside a function\n",
    "\n",
    "\"\"\""
   ]
  },
  {
   "cell_type": "markdown",
   "id": "4bd95457",
   "metadata": {},
   "source": [
    "#### Exercise: "
   ]
  },
  {
   "cell_type": "markdown",
   "id": "f2438677",
   "metadata": {},
   "source": [
    "The target of this exercise is to create a string, an integer, and a floating point number. The string should be named mystring and should contain the word \"your name\". The floating point number should be named myfloat and should contain the number 530.008, and the integer should be named myint and should contain your phone number."
   ]
  },
  {
   "cell_type": "code",
   "execution_count": 29,
   "id": "d595b035",
   "metadata": {},
   "outputs": [
    {
     "name": "stdout",
     "output_type": "stream",
     "text": [
      "<class 'str'>\n",
      "<class 'int'>\n",
      "<class 'float'>\n"
     ]
    }
   ],
   "source": [
    "mystring=\"Elina Shah\"\n",
    "myint=9822447275\n",
    "myfloat=530.008\n",
    "print(type(mystring))\n",
    "print(type(myint))\n",
    "print(type(myfloat))"
   ]
  },
  {
   "cell_type": "code",
   "execution_count": null,
   "id": "473f8648",
   "metadata": {},
   "outputs": [],
   "source": []
  }
 ],
 "metadata": {
  "kernelspec": {
   "display_name": "Python 3 (ipykernel)",
   "language": "python",
   "name": "python3"
  },
  "language_info": {
   "codemirror_mode": {
    "name": "ipython",
    "version": 3
   },
   "file_extension": ".py",
   "mimetype": "text/x-python",
   "name": "python",
   "nbconvert_exporter": "python",
   "pygments_lexer": "ipython3",
   "version": "3.11.5"
  }
 },
 "nbformat": 4,
 "nbformat_minor": 5
}
